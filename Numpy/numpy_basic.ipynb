{
 "cells": [
  {
   "cell_type": "markdown",
   "metadata": {},
   "source": [
    "### NumPy: Introdução\n",
    "\n",
    "NumPy é uma biblioteca fundamental para computação científica em Python. Ela fornece suporte para arrays multidimensionais e funções matemáticas de alto desempenho para manipulação desses arrays.\n",
    "\n",
    "Nesta seção, veremos exemplos básicos de:\n",
    "\n",
    "- Criação de arrays\n",
    "- Operações aritméticas com arrays\n",
    "- Indexação e fatiamento de arrays\n",
    "- Funções matemáticas universais (ufuncs)\n",
    "- Agregação e estatísticas básicas\n",
    "\n",
    "---\n"
   ]
  },
  {
   "cell_type": "markdown",
   "metadata": {},
   "source": [
    "#### 1. Criação de Arrays"
   ]
  },
  {
   "cell_type": "code",
   "execution_count": 1,
   "metadata": {},
   "outputs": [
    {
     "name": "stdout",
     "output_type": "stream",
     "text": [
      "[1 2 3 4]\n",
      "[[1 2]\n",
      " [3 4]]\n"
     ]
    }
   ],
   "source": [
    "import numpy as np\n",
    "\n",
    "# Criar um array 1D\n",
    "arr_1d = np.array([1, 2, 3, 4])\n",
    "print(arr_1d)\n",
    "\n",
    "# Criar um array 2D\n",
    "arr_2d = np.array([[1, 2], [3, 4]])\n",
    "print(arr_2d)"
   ]
  },
  {
   "cell_type": "markdown",
   "metadata": {},
   "source": [
    "\n",
    "#### 2. Operações Aritméticas com Arrays"
   ]
  },
  {
   "cell_type": "code",
   "execution_count": 2,
   "metadata": {},
   "outputs": [
    {
     "data": {
      "text/plain": [
       "array([2, 4, 6, 8])"
      ]
     },
     "execution_count": 2,
     "metadata": {},
     "output_type": "execute_result"
    }
   ],
   "source": [
    "# Operações elementares\n",
    "arr = np.array([1, 2, 3, 4])\n",
    "arr + 1  # Soma de 1 a cada elemento\n",
    "arr * 2  # Multiplicação de cada elemento por 2\n"
   ]
  },
  {
   "cell_type": "markdown",
   "metadata": {},
   "source": [
    "#### 3. Indexação e Fatiamento de Arrays\n"
   ]
  },
  {
   "cell_type": "code",
   "execution_count": 3,
   "metadata": {},
   "outputs": [
    {
     "name": "stdout",
     "output_type": "stream",
     "text": [
      "10\n",
      "[20 30 40]\n"
     ]
    }
   ],
   "source": [
    "# Indexação\n",
    "arr = np.array([10, 20, 30, 40, 50])\n",
    "print(arr[0])  # Primeiro elemento\n",
    "\n",
    "# Fatiamento\n",
    "print(arr[1:4])  # Elementos do índice 1 ao 3\n"
   ]
  },
  {
   "cell_type": "markdown",
   "metadata": {},
   "source": [
    "#### 4. Funções Matemáticas Universais (ufuncs)"
   ]
  },
  {
   "cell_type": "code",
   "execution_count": 4,
   "metadata": {},
   "outputs": [
    {
     "name": "stdout",
     "output_type": "stream",
     "text": [
      "[ 0.84147098  0.90929743  0.14112001 -0.7568025 ]\n",
      "[ 2.71828183  7.3890561  20.08553692 54.59815003]\n"
     ]
    }
   ],
   "source": [
    "# Funções matemáticas\n",
    "arr = np.array([1, 2, 3, 4])\n",
    "\n",
    "# Seno de cada elemento\n",
    "print(np.sin(arr))\n",
    "\n",
    "# Exponenciação de cada elemento\n",
    "print(np.exp(arr))"
   ]
  },
  {
   "cell_type": "markdown",
   "metadata": {},
   "source": [
    "#### 5. Agregação e Estatísticas Básicas"
   ]
  },
  {
   "cell_type": "code",
   "execution_count": 5,
   "metadata": {},
   "outputs": [
    {
     "name": "stdout",
     "output_type": "stream",
     "text": [
      "15\n",
      "3.0\n",
      "1.4142135623730951\n",
      "5\n"
     ]
    }
   ],
   "source": [
    "arr = np.array([1, 2, 3, 4, 5])\n",
    "\n",
    "# Soma\n",
    "print(np.sum(arr))\n",
    "\n",
    "# Média\n",
    "print(np.mean(arr))\n",
    "\n",
    "# Desvio padrão\n",
    "print(np.std(arr))\n",
    "\n",
    "# Valor máximo\n",
    "print(np.max(arr))\n"
   ]
  }
 ],
 "metadata": {
  "kernelspec": {
   "display_name": "Python 3",
   "language": "python",
   "name": "python3"
  },
  "language_info": {
   "codemirror_mode": {
    "name": "ipython",
    "version": 3
   },
   "file_extension": ".py",
   "mimetype": "text/x-python",
   "name": "python",
   "nbconvert_exporter": "python",
   "pygments_lexer": "ipython3",
   "version": "3.11.9"
  }
 },
 "nbformat": 4,
 "nbformat_minor": 2
}
