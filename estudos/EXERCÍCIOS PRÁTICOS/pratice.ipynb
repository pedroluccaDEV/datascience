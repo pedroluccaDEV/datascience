{
 "cells": [
  {
   "cell_type": "markdown",
   "metadata": {},
   "source": [
    "# Exercícios Práticos: Ciência de Dados\n",
    "\n",
    "#### Aplicação de conceitos básicos sobre:\n",
    "- Estatística; \n",
    "- Probabilidade; \n",
    "- Classificação\n",
    "- Regressão linear; \n",
    "- Regressão logística; \n",
    "- Árvores de decisão e correlação.  "
   ]
  },
  {
   "cell_type": "markdown",
   "metadata": {},
   "source": [
    "#### Contexto da Pratica:\n",
    "\n",
    "Você foi contratado como cientista de dados por uma empresa fictícia chamada HealthTech, que desenvolve soluções tecnológicas para o setor de saúde. A empresa está criando um novo aplicativo para ajudar médicos a prever o risco de doenças cardíacas em pacientes com base em diversos fatores de saúde. Para isso, você precisa aplicar conceitos fundamentais de estatística, probabilidade, classificação, regressão linear, regressão logística, árvores de decisão e correlação para analisar um conjunto de dados fictício."
   ]
  },
  {
   "cell_type": "markdown",
   "metadata": {},
   "source": [
    "---\n",
    "#### Gerar dados"
   ]
  },
  {
   "cell_type": "code",
   "execution_count": 5,
   "metadata": {},
   "outputs": [
    {
     "name": "stdout",
     "output_type": "stream",
     "text": [
      "            idade        sexo  pressao_arterial  colesterol  \\\n",
      "count  100.000000  100.000000        100.000000  100.000000   \n",
      "mean    56.010000    0.510000        120.630000  224.820000   \n",
      "std     15.700798    0.502418         23.749388   41.907397   \n",
      "min     30.000000    0.000000         81.000000  152.000000   \n",
      "25%     43.000000    0.000000        100.000000  192.000000   \n",
      "50%     54.000000    1.000000        119.500000  227.500000   \n",
      "75%     71.250000    1.000000        144.250000  257.750000   \n",
      "max     79.000000    1.000000        159.000000  297.000000   \n",
      "\n",
      "       batimento_cardiaco  historico_familiar  exercicio_fisico  \\\n",
      "count          100.000000          100.000000        100.000000   \n",
      "mean            80.080000            0.520000          3.450000   \n",
      "std             11.224684            0.502117          1.961112   \n",
      "min             60.000000            0.000000          0.000000   \n",
      "25%             72.750000            0.000000          2.000000   \n",
      "50%             79.000000            1.000000          3.500000   \n",
      "75%             89.000000            1.000000          5.000000   \n",
      "max             99.000000            1.000000          6.000000   \n",
      "\n",
      "       doenca_cardiaca  \n",
      "count       100.000000  \n",
      "mean          0.460000  \n",
      "std           0.500908  \n",
      "min           0.000000  \n",
      "25%           0.000000  \n",
      "50%           0.000000  \n",
      "75%           1.000000  \n",
      "max           1.000000  \n"
     ]
    }
   ],
   "source": [
    "import pandas as pd\n",
    "import numpy as np\n",
    "from sklearn.model_selection import train_test_split\n",
    "from sklearn.tree import DecisionTreeClassifier\n",
    "from sklearn.linear_model import LogisticRegression\n",
    "import seaborn as sns\n",
    "import matplotlib.pyplot as plt\n",
    "\n",
    "# Dados fictícios\n",
    "dados = pd.DataFrame({\n",
    "    'idade': np.random.randint(30, 80, 100),\n",
    "    'sexo': np.random.randint(0, 2, 100),\n",
    "    'pressao_arterial': np.random.randint(80, 160, 100),\n",
    "    'colesterol': np.random.randint(150, 300, 100),\n",
    "    'batimento_cardiaco': np.random.randint(60, 100, 100),\n",
    "    'historico_familiar': np.random.randint(0, 2, 100),\n",
    "    'exercicio_fisico': np.random.randint(0, 7, 100),\n",
    "    'doenca_cardiaca': np.random.randint(0, 2, 100)\n",
    "})\n",
    "\n",
    "# Início das análises\n",
    "print(dados.describe())"
   ]
  },
  {
   "cell_type": "markdown",
   "metadata": {},
   "source": [
    "---"
   ]
  },
  {
   "cell_type": "markdown",
   "metadata": {},
   "source": [
    "### Estatística Descritiva:\n",
    "\n",
    "- Calcular a média, mediana e moda para idade, pressao_arterial, e colesterol.\n",
    "- Identificar os valores máximos e mínimos para cada variável numérica.\n"
   ]
  },
  {
   "cell_type": "code",
   "execution_count": 6,
   "metadata": {},
   "outputs": [
    {
     "name": "stdout",
     "output_type": "stream",
     "text": [
      "Média:\n",
      "idade                56.01\n",
      "pressao_arterial    120.63\n",
      "colesterol          224.82\n",
      "dtype: float64\n",
      "\n",
      "Mediana:\n",
      "idade                54.0\n",
      "pressao_arterial    119.5\n",
      "colesterol          227.5\n",
      "dtype: float64\n",
      "\n",
      "Moda:\n",
      "idade                30.0\n",
      "pressao_arterial    100.0\n",
      "colesterol          247.0\n",
      "Name: 0, dtype: float64\n",
      "\n",
      "Valores Máximos e Mínimos:\n",
      "Máximos:\n",
      " idade                79\n",
      "pressao_arterial    159\n",
      "colesterol          297\n",
      "dtype: int64\n",
      "Mínimos:\n",
      " idade                30\n",
      "pressao_arterial     81\n",
      "colesterol          152\n",
      "dtype: int64\n"
     ]
    }
   ],
   "source": [
    "# Estatística descritiva\n",
    "print(\"Média:\")\n",
    "print(dados[['idade', 'pressao_arterial', 'colesterol']].mean())\n",
    "\n",
    "print(\"\\nMediana:\")\n",
    "print(dados[['idade', 'pressao_arterial', 'colesterol']].median())\n",
    "\n",
    "print(\"\\nModa:\")\n",
    "print(dados[['idade', 'pressao_arterial', 'colesterol']].mode().iloc[0])\n",
    "\n",
    "print(\"\\nValores Máximos e Mínimos:\")\n",
    "print(\"Máximos:\\n\", dados[['idade', 'pressao_arterial', 'colesterol']].max())\n",
    "print(\"Mínimos:\\n\", dados[['idade', 'pressao_arterial', 'colesterol']].min())\n"
   ]
  },
  {
   "cell_type": "markdown",
   "metadata": {},
   "source": [
    "#### Probabilidade:\n",
    "\n",
    "- Qual é a probabilidade de um paciente ter uma doença cardíaca se ele tiver um histórico familiar positivo?\n",
    "- Estime a probabilidade de um paciente desenvolver doença cardíaca com base nos níveis de colesterol acima de um certo limite (defina um limite fictício)."
   ]
  },
  {
   "cell_type": "code",
   "execution_count": 7,
   "metadata": {},
   "outputs": [
    {
     "name": "stdout",
     "output_type": "stream",
     "text": [
      "Probabilidade de ter doença cardíaca com histórico familiar positivo: 0.46\n"
     ]
    }
   ],
   "source": [
    "# Probabilidade condicional\n",
    "hist_fam_doenca = dados[(dados['historico_familiar'] == 1) & (dados['doenca_cardiaca'] == 1)].shape[0]\n",
    "hist_fam_total = dados[dados['historico_familiar'] == 1].shape[0]\n",
    "\n",
    "probabilidade = hist_fam_doenca / hist_fam_total\n",
    "print(f\"Probabilidade de ter doença cardíaca com histórico familiar positivo: {probabilidade:.2f}\")\n"
   ]
  },
  {
   "cell_type": "markdown",
   "metadata": {},
   "source": [
    "#### Regressão Linear:\n",
    "\n",
    "- Crie um modelo de regressão linear para prever a pressão arterial com base na idade e no nível de colesterol.\n",
    "- Interprete os coeficientes do modelo e avalie sua precisão.\n",
    "\n"
   ]
  },
  {
   "cell_type": "code",
   "execution_count": 8,
   "metadata": {},
   "outputs": [
    {
     "name": "stdout",
     "output_type": "stream",
     "text": [
      "Acurácia do modelo: 0.50\n"
     ]
    }
   ],
   "source": [
    "from sklearn.metrics import accuracy_score\n",
    "\n",
    "# Preparação dos dados\n",
    "X = dados.drop('doenca_cardiaca', axis=1)\n",
    "y = dados['doenca_cardiaca']\n",
    "\n",
    "X_train, X_test, y_train, y_test = train_test_split(X, y, test_size=0.2, random_state=42)\n",
    "\n",
    "# Modelo de árvore de decisão\n",
    "clf = DecisionTreeClassifier()\n",
    "clf.fit(X_train, y_train)\n",
    "\n",
    "# Previsão\n",
    "y_pred = clf.predict(X_test)\n",
    "\n",
    "# Avaliação\n",
    "accuracy = accuracy_score(y_test, y_pred)\n",
    "print(f\"Acurácia do modelo: {accuracy:.2f}\")\n"
   ]
  },
  {
   "cell_type": "markdown",
   "metadata": {},
   "source": [
    "#### 4. Regressão Linear\n",
    "\n",
    "Crie um modelo de regressão linear para prever a pressão arterial com base na idade e no nível de colesterol."
   ]
  },
  {
   "cell_type": "code",
   "execution_count": 10,
   "metadata": {},
   "outputs": [
    {
     "name": "stdout",
     "output_type": "stream",
     "text": [
      "Erro quadrático médio: 557.55\n",
      "Coeficientes: [ 0.05622084 -0.00635936]\n"
     ]
    }
   ],
   "source": [
    "from sklearn.linear_model import LinearRegression\n",
    "from sklearn.metrics import mean_squared_error\n",
    "\n",
    "# Regressão linear\n",
    "X = dados[['idade', 'colesterol']]\n",
    "y = dados['pressao_arterial']\n",
    "\n",
    "reg = LinearRegression()\n",
    "reg.fit(X, y)\n",
    "\n",
    "y_pred = reg.predict(X)\n",
    "mse = mean_squared_error(y, y_pred)\n",
    "print(f\"Erro quadrático médio: {mse:.2f}\")\n",
    "\n",
    "# Coeficientes\n",
    "print(\"Coeficientes:\", reg.coef_)"
   ]
  },
  {
   "cell_type": "markdown",
   "metadata": {},
   "source": [
    "#### Regressão Logística:\n",
    "\n",
    "- Utilize a regressão logística para prever a probabilidade de um paciente ter doença cardíaca com base em idade, colesterol e historico_familiar.\n",
    "- Avalie a precisão do modelo e a significância das variáveis."
   ]
  },
  {
   "cell_type": "code",
   "execution_count": 9,
   "metadata": {},
   "outputs": [
    {
     "name": "stdout",
     "output_type": "stream",
     "text": [
      "Acurácia da regressão logística: 0.45\n"
     ]
    }
   ],
   "source": [
    "# Regressão logística\n",
    "X = dados[['idade', 'colesterol', 'historico_familiar']]\n",
    "y = dados['doenca_cardiaca']\n",
    "\n",
    "logreg = LogisticRegression()\n",
    "logreg.fit(X_train[['idade', 'colesterol', 'historico_familiar']], y_train)\n",
    "\n",
    "# Previsão e avaliação\n",
    "y_pred = logreg.predict(X_test[['idade', 'colesterol', 'historico_familiar']])\n",
    "accuracy = accuracy_score(y_test, y_pred)\n",
    "print(f\"Acurácia da regressão logística: {accuracy:.2f}\")\n"
   ]
  },
  {
   "cell_type": "markdown",
   "metadata": {},
   "source": [
    "#### Árvores de Decisão e Correlação:\n",
    "\n",
    "- Construa uma árvore de decisão para prever a doença cardíaca e compare com o modelo de regressão logística.\n",
    "- Calcule a correlação entre idade, pressao_arterial e colesterol. Visualize a correlação usando um mapa de calor."
   ]
  },
  {
   "cell_type": "code",
   "execution_count": 11,
   "metadata": {},
   "outputs": [
    {
     "data": {
      "image/png": "[encoded data removed]",
      "text/plain": [
       "<Figure size 432x288 with 2 Axes>"
      ]
     },
     "metadata": {
      "needs_background": "light"
     },
     "output_type": "display_data"
    }
   ],
   "source": [
    "# Mapa de calor para correlação\n",
    "correlacao = dados[['idade', 'pressao_arterial', 'colesterol']].corr()\n",
    "sns.heatmap(correlacao, annot=True, cmap='coolwarm')\n",
    "plt.show()\n"
   ]
  },
  {
   "cell_type": "markdown",
   "metadata": {},
   "source": []
  }
 ],
 "metadata": {
  "kernelspec": {
   "display_name": "Python 3",
   "language": "python",
   "name": "python3"
  },
  "language_info": {
   "codemirror_mode": {
    "name": "ipython",
    "version": 3
   },
   "file_extension": ".py",
   "mimetype": "text/x-python",
   "name": "python",
   "nbconvert_exporter": "python",
   "pygments_lexer": "ipython3",
   "version": "3.10.12"
  }
 },
 "nbformat": 4,
 "nbformat_minor": 2
}
