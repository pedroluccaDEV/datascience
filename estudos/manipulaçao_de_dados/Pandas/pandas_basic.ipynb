{
 "cells": [
  {
   "cell_type": "markdown",
   "metadata": {},
   "source": [
    "### Pandas: Introdução\n",
    "Pandas é uma biblioteca para manipulação e análise de dados estruturados, como tabelas e séries temporais. \n",
    "\n",
    "Nesta seção, veremos exemplos básicos de:\n",
    "- Criação de DataFrames e Séries\n",
    "- Leitura de arquivos (CSV, Excel, etc.)\n",
    "- Manipulação de dados (seleção, filtragem, agrupamento)\n",
    "- Operações estatísticas básicas\n",
    "\n"
   ]
  },
  {
   "cell_type": "code",
   "execution_count": 4,
   "metadata": {},
   "outputs": [],
   "source": [
    "# Criação de um DataFrame\n",
    "import pandas as pd\n"
   ]
  },
  {
   "cell_type": "markdown",
   "metadata": {},
   "source": [
    "#### Exemplo: Criando um DataFrame"
   ]
  },
  {
   "cell_type": "code",
   "execution_count": null,
   "metadata": {},
   "outputs": [],
   "source": [
    "data = {\n",
    "  'Nome': ['Ana', 'João', 'Maria'],\n",
    "  'Idade': [23, 35, 29],\n",
    "  'Cidade': ['São Paulo', 'Rio de Janeiro', 'Belo Horizonte']\n",
    "}\n",
    "df = pd.DataFrame(data)\n",
    "\n",
    "print(\"DataFrame Criado:\")\n",
    "print(df)\n"
   ]
  },
  {
   "cell_type": "markdown",
   "metadata": {},
   "source": [
    "#### Exemplo: Selecionando Colunas e Filtrando Dados"
   ]
  },
  {
   "cell_type": "code",
   "execution_count": null,
   "metadata": {},
   "outputs": [],
   "source": [
    "# Selecionando uma coluna\n",
    "df_nome = df['Nome']\n",
    "print(\"\\nColuna Nome:\")\n",
    "print(df_nome)\n",
    "\n",
    "# Filtrando dados (idade maior que 25)\n",
    "df_filtrado = df[df['Idade'] > 25]\n",
    "print(\"\\nFiltrando Idade > 25:\")\n",
    "print(df_filtrado)"
   ]
  },
  {
   "cell_type": "markdown",
   "metadata": {},
   "source": [
    "#### Exemplo: Estatísticas Básicas"
   ]
  },
  {
   "cell_type": "code",
   "execution_count": null,
   "metadata": {},
   "outputs": [],
   "source": [
    "# Estatísticas descritivas\n",
    "df_stats = df.describe()\n",
    "print(\"\\nEstatísticas Descritivas:\")\n",
    "print(df_stats)\n"
   ]
  },
  {
   "cell_type": "markdown",
   "metadata": {},
   "source": [
    "#### Exemplo: Leitura de Arquivos com Pandas\n",
    "Pandas oferece métodos convenientes para ler diferentes tipos de arquivos, como:\n"
   ]
  },
  {
   "cell_type": "markdown",
   "metadata": {},
   "source": [
    "- `pd.read_csv()` para arquivos CSV.\n",
    "- `pd.read_excel()` para arquivos Excel.\n",
    "- `pd.read_json()` para arquivos JSON.\n",
    "\n",
    "Aqui estão exemplos de como carregar esses arquivos em DataFrames."
   ]
  },
  {
   "cell_type": "code",
   "execution_count": 13,
   "metadata": {},
   "outputs": [
    {
     "name": "stdout",
     "output_type": "stream",
     "text": [
      "DataFrame lido do arquivo CSV:\n",
      "       Nome  Idade          Cidade\n",
      "0      João     28       São Paulo\n",
      "1     Maria     34  Rio de Janeiro\n",
      "2    Carlos     22  Belo Horizonte\n",
      "3  Fernanda     30        Curitiba\n",
      "\n",
      "DataFrame lido do arquivo Excel:\n",
      "       Nome  Idade          Cidade\n",
      "0      João     28       São Paulo\n",
      "1     Maria     34  Rio de Janeiro\n",
      "2    Carlos     22  Belo Horizonte\n",
      "3  Fernanda     30        Curitiba\n",
      "\n",
      "DataFrame lido do arquivo JSON:\n",
      "       Nome  Idade          Cidade\n",
      "0      João     28       São Paulo\n",
      "1     Maria     34  Rio de Janeiro\n",
      "2    Carlos     22  Belo Horizonte\n",
      "3  Fernanda     30        Curitiba\n"
     ]
    }
   ],
   "source": [
    "# Leitura de arquivos CSV\n",
    "arquivo_csv = 'exemplo.csv'\n",
    "df_csv = pd.read_csv(arquivo_csv)\n",
    "print(\"DataFrame lido do arquivo CSV:\")\n",
    "print(df_csv)\n",
    "\n",
    "# Leitura de arquivos Excel\n",
    "arquivo_excel = 'exemplo.xlsx'\n",
    "df_excel = pd.read_excel(arquivo_excel)\n",
    "print(\"\\nDataFrame lido do arquivo Excel:\")\n",
    "print(df_excel)\n",
    "\n",
    "# Leitura de arquivos JSON\n",
    "arquivo_json = 'exemplo.json'\n",
    "df_json = pd.read_json(arquivo_json)\n",
    "print(\"\\nDataFrame lido do arquivo JSON:\")\n",
    "print(df_json)\n"
   ]
  }
 ],
 "metadata": {
  "kernelspec": {
   "display_name": "Python 3",
   "language": "python",
   "name": "python3"
  },
  "language_info": {
   "codemirror_mode": {
    "name": "ipython",
    "version": 3
   },
   "file_extension": ".py",
   "mimetype": "text/x-python",
   "name": "python",
   "nbconvert_exporter": "python",
   "pygments_lexer": "ipython3",
   "version": "3.11.9"
  }
 },
 "nbformat": 4,
 "nbformat_minor": 2
}
