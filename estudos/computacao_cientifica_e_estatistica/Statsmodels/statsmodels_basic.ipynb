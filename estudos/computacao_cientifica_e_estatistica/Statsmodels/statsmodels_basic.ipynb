{
 "cells": [
  {
   "cell_type": "markdown",
   "metadata": {},
   "source": [
    "### Statsmodels: Introdução\n",
    "Statsmodels é uma biblioteca Python usada para modelagem estatística. Ela oferece ferramentas para estimar modelos de regressão, séries temporais e realizar testes estatísticos.\n",
    "\n",
    "Nesta seção, veremos exemplos básicos de:\n",
    "- Regressão linear simples\n",
    "- Regressão múltipla\n",
    "- Testes estatísticos (como o teste t)\n",
    "- Modelagem de séries temporais (ARIMA)\n",
    "\n",
    "---"
   ]
  },
  {
   "cell_type": "markdown",
   "metadata": {},
   "source": [
    "#### 1. **Regressão Linear Simples**"
   ]
  },
  {
   "cell_type": "code",
   "execution_count": 3,
   "metadata": {},
   "outputs": [
    {
     "name": "stdout",
     "output_type": "stream",
     "text": [
      "                            OLS Regression Results                            \n",
      "==============================================================================\n",
      "Dep. Variable:                      y   R-squared:                       0.971\n",
      "Model:                            OLS   Adj. R-squared:                  0.971\n",
      "Method:                 Least Squares   F-statistic:                     3262.\n",
      "Date:                Fri, 10 Jan 2025   Prob (F-statistic):           4.88e-77\n",
      "Time:                        11:28:38   Log-Likelihood:                 88.744\n",
      "No. Observations:                 100   AIC:                            -173.5\n",
      "Df Residuals:                      98   BIC:                            -168.3\n",
      "Df Model:                           1                                         \n",
      "Covariance Type:            nonrobust                                         \n",
      "==============================================================================\n",
      "                 coef    std err          t      P>|t|      [0.025      0.975]\n",
      "------------------------------------------------------------------------------\n",
      "const          0.0222      0.019      1.149      0.253      -0.016       0.061\n",
      "x1             1.9937      0.035     57.117      0.000       1.924       2.063\n",
      "==============================================================================\n",
      "Omnibus:                       11.746   Durbin-Watson:                   2.083\n",
      "Prob(Omnibus):                  0.003   Jarque-Bera (JB):                4.097\n",
      "Skew:                           0.138   Prob(JB):                        0.129\n",
      "Kurtosis:                       2.047   Cond. No.                         4.30\n",
      "==============================================================================\n",
      "\n",
      "Notes:\n",
      "[1] Standard Errors assume that the covariance matrix of the errors is correctly specified.\n"
     ]
    }
   ],
   "source": [
    "import statsmodels.api as sm\n",
    "import numpy as np\n",
    "\n",
    "# Gerar dados de exemplo\n",
    "np.random.seed(0)\n",
    "X = np.random.rand(100)\n",
    "Y = 2 * X + np.random.normal(0, 0.1, 100)\n",
    "\n",
    "# Adicionar um intercepto (termo constante)\n",
    "X = sm.add_constant(X)\n",
    "\n",
    "# Ajustar o modelo de regressão linear\n",
    "model = sm.OLS(Y, X)\n",
    "results = model.fit()\n",
    "\n",
    "# Resumo dos resultados\n",
    "print(results.summary())"
   ]
  },
  {
   "cell_type": "markdown",
   "metadata": {},
   "source": [
    "#### 2. Regressão Múltipla\n",
    "A regressão múltipla envolve mais de uma variável independente para prever a variável dependente."
   ]
  },
  {
   "cell_type": "code",
   "execution_count": 4,
   "metadata": {},
   "outputs": [
    {
     "name": "stdout",
     "output_type": "stream",
     "text": [
      "                            OLS Regression Results                            \n",
      "==============================================================================\n",
      "Dep. Variable:                      y   R-squared:                       0.991\n",
      "Model:                            OLS   Adj. R-squared:                  0.991\n",
      "Method:                 Least Squares   F-statistic:                     5413.\n",
      "Date:                Fri, 10 Jan 2025   Prob (F-statistic):          3.15e-100\n",
      "Time:                        11:29:18   Log-Likelihood:                 90.476\n",
      "No. Observations:                 100   AIC:                            -175.0\n",
      "Df Residuals:                      97   BIC:                            -167.1\n",
      "Df Model:                           2                                         \n",
      "Covariance Type:            nonrobust                                         \n",
      "==============================================================================\n",
      "                 coef    std err          t      P>|t|      [0.025      0.975]\n",
      "------------------------------------------------------------------------------\n",
      "const         -0.0081      0.025     -0.318      0.751      -0.059       0.042\n",
      "x1             2.0241      0.033     61.246      0.000       1.959       2.090\n",
      "x2             2.9642      0.034     87.634      0.000       2.897       3.031\n",
      "==============================================================================\n",
      "Omnibus:                        3.146   Durbin-Watson:                   1.944\n",
      "Prob(Omnibus):                  0.207   Jarque-Bera (JB):                3.133\n",
      "Skew:                          -0.418   Prob(JB):                        0.209\n",
      "Kurtosis:                       2.767   Cond. No.                         5.17\n",
      "==============================================================================\n",
      "\n",
      "Notes:\n",
      "[1] Standard Errors assume that the covariance matrix of the errors is correctly specified.\n"
     ]
    }
   ],
   "source": [
    "# Gerar dados de exemplo\n",
    "X1 = np.random.rand(100)\n",
    "X2 = np.random.rand(100)\n",
    "Y = 2 * X1 + 3 * X2 + np.random.normal(0, 0.1, 100)\n",
    "\n",
    "# Organizar as variáveis independentes em um array\n",
    "X = np.column_stack((X1, X2))\n",
    "X = sm.add_constant(X)  # Adicionar o intercepto\n",
    "\n",
    "# Ajustar o modelo de regressão múltipla\n",
    "model = sm.OLS(Y, X)\n",
    "results = model.fit()\n",
    "\n",
    "# Resumo dos resultados\n",
    "print(results.summary())"
   ]
  },
  {
   "cell_type": "markdown",
   "metadata": {},
   "source": [
    "#### 3. Testes Estatísticos"
   ]
  },
  {
   "cell_type": "code",
   "execution_count": 5,
   "metadata": {},
   "outputs": [
    {
     "name": "stdout",
     "output_type": "stream",
     "text": [
      "Estatística t: -0.5160617008954193\n",
      "Valor p: 0.606962022418332\n"
     ]
    }
   ],
   "source": [
    "from scipy import stats\n",
    "\n",
    "# Dados de exemplo\n",
    "data = np.random.normal(0, 1, 100)\n",
    "\n",
    "# Teste t para a média\n",
    "t_statistic, p_value = stats.ttest_1samp(data, 0)\n",
    "print(\"Estatística t:\", t_statistic)\n",
    "print(\"Valor p:\", p_value)\n"
   ]
  },
  {
   "cell_type": "markdown",
   "metadata": {},
   "source": [
    "#### 4. Modelagem de Séries Temporais (ARIMA)\n",
    "Statsmodels tem ferramentas para modelar séries temporais. Aqui, usamos o modelo ARIMA (AutoRegressive Integrated Moving Average) para uma série temporal fictícia."
   ]
  },
  {
   "cell_type": "code",
   "execution_count": 6,
   "metadata": {},
   "outputs": [
    {
     "name": "stdout",
     "output_type": "stream",
     "text": [
      "                               SARIMAX Results                                \n",
      "==============================================================================\n",
      "Dep. Variable:                      y   No. Observations:                  100\n",
      "Model:                 ARIMA(1, 1, 1)   Log Likelihood                -140.962\n",
      "Date:                Fri, 10 Jan 2025   AIC                            287.923\n",
      "Time:                        11:30:33   BIC                            295.709\n",
      "Sample:                             0   HQIC                           291.073\n",
      "                                - 100                                         \n",
      "Covariance Type:                  opg                                         \n",
      "==============================================================================\n",
      "                 coef    std err          z      P>|z|      [0.025      0.975]\n",
      "------------------------------------------------------------------------------\n",
      "ar.L1         -0.0464      0.111     -0.418      0.676      -0.264       0.171\n",
      "ma.L1         -0.8923      0.057    -15.600      0.000      -1.004      -0.780\n",
      "sigma2         0.9929      0.142      6.995      0.000       0.715       1.271\n",
      "===================================================================================\n",
      "Ljung-Box (L1) (Q):                   0.00   Jarque-Bera (JB):                 0.13\n",
      "Prob(Q):                              0.99   Prob(JB):                         0.94\n",
      "Heteroskedasticity (H):               0.64   Skew:                            -0.09\n",
      "Prob(H) (two-sided):                  0.21   Kurtosis:                         3.03\n",
      "===================================================================================\n",
      "\n",
      "Warnings:\n",
      "[1] Covariance matrix calculated using the outer product of gradients (complex-step).\n"
     ]
    }
   ],
   "source": [
    "import pandas as pd\n",
    "from statsmodels.tsa.arima.model import ARIMA\n",
    "\n",
    "# Gerar dados de séries temporais\n",
    "np.random.seed(0)\n",
    "data = np.random.randn(100)\n",
    "\n",
    "# Converter para uma série temporal\n",
    "ts = pd.Series(data)\n",
    "\n",
    "# Ajustar o modelo ARIMA\n",
    "model = ARIMA(ts, order=(1, 1, 1))\n",
    "results = model.fit()\n",
    "\n",
    "# Exibir os resultados do modelo\n",
    "print(results.summary())\n"
   ]
  }
 ],
 "metadata": {
  "kernelspec": {
   "display_name": "Python 3",
   "language": "python",
   "name": "python3"
  },
  "language_info": {
   "codemirror_mode": {
    "name": "ipython",
    "version": 3
   },
   "file_extension": ".py",
   "mimetype": "text/x-python",
   "name": "python",
   "nbconvert_exporter": "python",
   "pygments_lexer": "ipython3",
   "version": "3.11.9"
  }
 },
 "nbformat": 4,
 "nbformat_minor": 2
}
